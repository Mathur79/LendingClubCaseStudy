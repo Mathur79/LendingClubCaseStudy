{
 "cells": [
  {
   "cell_type": "markdown",
   "id": "636f84f1",
   "metadata": {},
   "source": [
    "# Lending Club Case Study Notebook\n",
    "\n",
    "Problem Statement:Analyse the banking and financial services data (prior history) and derive insights to minimise the risk of losing money while lending to future customers.The company wants to understand the driving factors (or driver variables) behind loan default, i.e. the variables which are strong indicators of default.  The company can utilise this knowledge for its portfolio and risk assessment. "
   ]
  },
  {
   "cell_type": "code",
   "execution_count": null,
   "id": "5d6cde91",
   "metadata": {},
   "outputs": [],
   "source": []
  },
  {
   "cell_type": "code",
   "execution_count": null,
   "id": "f7ac4987",
   "metadata": {},
   "outputs": [],
   "source": []
  },
  {
   "cell_type": "code",
   "execution_count": null,
   "id": "faab8d94",
   "metadata": {},
   "outputs": [],
   "source": []
  },
  {
   "cell_type": "code",
   "execution_count": null,
   "id": "f3f2607b",
   "metadata": {},
   "outputs": [],
   "source": []
  },
  {
   "cell_type": "code",
   "execution_count": 1,
   "id": "ef04b0c7",
   "metadata": {},
   "outputs": [],
   "source": [
    "#Loading the Libraries\n",
    "import numpy as np\n",
    "import pandas as pd\n",
    "import seaborn as sns\n",
    "import matplotlib.pyplot as plt"
   ]
  },
  {
   "cell_type": "code",
   "execution_count": 2,
   "id": "b5e38a5a",
   "metadata": {},
   "outputs": [
    {
     "name": "stderr",
     "output_type": "stream",
     "text": [
      "C:\\Users\\mathu\\AppData\\Local\\Temp\\ipykernel_31276\\1778639920.py:2: DtypeWarning: Columns (47) have mixed types. Specify dtype option on import or set low_memory=False.\n",
      "  df = pd.read_csv(\"loan.csv\")\n"
     ]
    }
   ],
   "source": [
    "# Reading the Dataset\n",
    "df = pd.read_csv(\"loan.csv\")"
   ]
  },
  {
   "cell_type": "code",
   "execution_count": 3,
   "id": "d572691e",
   "metadata": {},
   "outputs": [
    {
     "data": {
      "text/plain": [
       "(39717, 111)"
      ]
     },
     "execution_count": 3,
     "metadata": {},
     "output_type": "execute_result"
    }
   ],
   "source": [
    "\n",
    "df.head(5)\n",
    "df.shape\n"
   ]
  },
  {
   "cell_type": "code",
   "execution_count": 4,
   "id": "e7c3e712",
   "metadata": {},
   "outputs": [
    {
     "data": {
      "text/plain": [
       "verification_status_joint    39717\n",
       "annual_inc_joint             39717\n",
       "mo_sin_old_rev_tl_op         39717\n",
       "mo_sin_old_il_acct           39717\n",
       "bc_util                      39717\n",
       "                             ...  \n",
       "delinq_amnt                      0\n",
       "policy_code                      0\n",
       "earliest_cr_line                 0\n",
       "delinq_2yrs                      0\n",
       "id                               0\n",
       "Length: 111, dtype: int64"
      ]
     },
     "execution_count": 4,
     "metadata": {},
     "output_type": "execute_result"
    }
   ],
   "source": [
    "df.isnull().sum().sort_values(ascending=False)\n",
    "#There are many columns having all NULL Values. All of these can be dropped"
   ]
  },
  {
   "cell_type": "code",
   "execution_count": 5,
   "id": "b3a704f4",
   "metadata": {},
   "outputs": [],
   "source": [
    "#Get the total number of Rows in the Dataset.\n",
    "#Use that to see how many columns have all NA and drop them\n",
    "numrows = len(df.index)\n",
    "\n",
    "#Getting the list of columns have all Null Values\n",
    "dropcols = df.columns[df.isna().sum()==numrows]\n",
    "\n",
    "#Dropping the Columns identifed above\n",
    "df = df.drop(columns=dropcols,axis=1)\n"
   ]
  },
  {
   "cell_type": "code",
   "execution_count": 6,
   "id": "f22e4365",
   "metadata": {},
   "outputs": [
    {
     "data": {
      "text/plain": [
       "(39717, 57)"
      ]
     },
     "execution_count": 6,
     "metadata": {},
     "output_type": "execute_result"
    }
   ],
   "source": [
    "df.shape\n"
   ]
  },
  {
   "cell_type": "code",
   "execution_count": null,
   "id": "b1f39e54",
   "metadata": {},
   "outputs": [],
   "source": []
  },
  {
   "cell_type": "code",
   "execution_count": 7,
   "id": "ab23d5ad",
   "metadata": {},
   "outputs": [
    {
     "data": {
      "text/plain": [
       "next_pymnt_d              38577\n",
       "mths_since_last_record    36931\n",
       "mths_since_last_delinq    25682\n",
       "desc                      12942\n",
       "dtype: int64"
      ]
     },
     "execution_count": 7,
     "metadata": {},
     "output_type": "execute_result"
    }
   ],
   "source": [
    "#dropping the below columns also as they have high NA values\n",
    "df.isna().sum().sort_values(ascending=False).head(4)\n",
    "#There are four columns that have very number of NA. They would no help for our analysis given the count of NA"
   ]
  },
  {
   "cell_type": "code",
   "execution_count": 8,
   "id": "74a68149",
   "metadata": {},
   "outputs": [],
   "source": [
    "dropcols=df.isna().sum().sort_values(ascending=False).head(4).index\n",
    "df = df.drop(columns=dropcols,axis=1)"
   ]
  },
  {
   "cell_type": "code",
   "execution_count": 9,
   "id": "f49b2d53",
   "metadata": {},
   "outputs": [
    {
     "data": {
      "text/plain": [
       "(39717, 53)"
      ]
     },
     "execution_count": 9,
     "metadata": {},
     "output_type": "execute_result"
    }
   ],
   "source": [
    "df.shape\n",
    "#Number of columns are now reduced to 53"
   ]
  },
  {
   "cell_type": "code",
   "execution_count": 10,
   "id": "075bf814",
   "metadata": {},
   "outputs": [
    {
     "data": {
      "text/plain": [
       "emp_title                     0.061913\n",
       "emp_length                    0.027066\n",
       "pub_rec_bankruptcies          0.017549\n",
       "last_pymnt_d                  0.001788\n",
       "collections_12_mths_ex_med    0.001410\n",
       "chargeoff_within_12_mths      0.001410\n",
       "revol_util                    0.001259\n",
       "tax_liens                     0.000982\n",
       "title                         0.000277\n",
       "last_credit_pull_d            0.000050\n",
       "total_rec_prncp               0.000000\n",
       "out_prncp                     0.000000\n",
       "initial_list_status           0.000000\n",
       "out_prncp_inv                 0.000000\n",
       "total_acc                     0.000000\n",
       "total_pymnt                   0.000000\n",
       "total_pymnt_inv               0.000000\n",
       "collection_recovery_fee       0.000000\n",
       "total_rec_int                 0.000000\n",
       "total_rec_late_fee            0.000000\n",
       "recoveries                    0.000000\n",
       "pub_rec                       0.000000\n",
       "last_pymnt_amnt               0.000000\n",
       "policy_code                   0.000000\n",
       "application_type              0.000000\n",
       "acc_now_delinq                0.000000\n",
       "delinq_amnt                   0.000000\n",
       "revol_bal                     0.000000\n",
       "id                            0.000000\n",
       "open_acc                      0.000000\n",
       "member_id                     0.000000\n",
       "loan_amnt                     0.000000\n",
       "funded_amnt                   0.000000\n",
       "funded_amnt_inv               0.000000\n",
       "term                          0.000000\n",
       "int_rate                      0.000000\n",
       "installment                   0.000000\n",
       "grade                         0.000000\n",
       "sub_grade                     0.000000\n",
       "home_ownership                0.000000\n",
       "annual_inc                    0.000000\n",
       "verification_status           0.000000\n",
       "issue_d                       0.000000\n",
       "loan_status                   0.000000\n",
       "pymnt_plan                    0.000000\n",
       "url                           0.000000\n",
       "purpose                       0.000000\n",
       "zip_code                      0.000000\n",
       "addr_state                    0.000000\n",
       "dti                           0.000000\n",
       "delinq_2yrs                   0.000000\n",
       "earliest_cr_line              0.000000\n",
       "inq_last_6mths                0.000000\n",
       "dtype: float64"
      ]
     },
     "execution_count": 10,
     "metadata": {},
     "output_type": "execute_result"
    }
   ],
   "source": [
    "(df.isna().sum()/df.shape[0]).sort_values(ascending=False)\n",
    "# reviewing the NA Percentage for the remaining columns against the lenght of the dataset"
   ]
  },
  {
   "cell_type": "code",
   "execution_count": 11,
   "id": "034479c2",
   "metadata": {},
   "outputs": [
    {
     "data": {
      "text/plain": [
       "id                            39717\n",
       "member_id                     39717\n",
       "url                           39717\n",
       "total_pymnt                   37850\n",
       "total_pymnt_inv               37518\n",
       "total_rec_int                 35148\n",
       "last_pymnt_amnt               34930\n",
       "emp_title                     28820\n",
       "revol_bal                     21711\n",
       "title                         19615\n",
       "installment                   15383\n",
       "funded_amnt_inv                8205\n",
       "total_rec_prncp                7976\n",
       "annual_inc                     5318\n",
       "recoveries                     4040\n",
       "dti                            2868\n",
       "collection_recovery_fee        2616\n",
       "total_rec_late_fee             1356\n",
       "out_prncp_inv                  1138\n",
       "out_prncp                      1137\n",
       "revol_util                     1089\n",
       "funded_amnt                    1041\n",
       "loan_amnt                       885\n",
       "zip_code                        823\n",
       "earliest_cr_line                526\n",
       "int_rate                        371\n",
       "last_credit_pull_d              106\n",
       "last_pymnt_d                    101\n",
       "total_acc                        82\n",
       "issue_d                          55\n",
       "addr_state                       50\n",
       "open_acc                         40\n",
       "sub_grade                        35\n",
       "purpose                          14\n",
       "delinq_2yrs                      11\n",
       "emp_length                       11\n",
       "inq_last_6mths                    9\n",
       "grade                             7\n",
       "pub_rec                           5\n",
       "home_ownership                    5\n",
       "loan_status                       3\n",
       "verification_status               3\n",
       "pub_rec_bankruptcies              3\n",
       "term                              2\n",
       "initial_list_status               1\n",
       "pymnt_plan                        1\n",
       "collections_12_mths_ex_med        1\n",
       "policy_code                       1\n",
       "application_type                  1\n",
       "acc_now_delinq                    1\n",
       "chargeoff_within_12_mths          1\n",
       "delinq_amnt                       1\n",
       "tax_liens                         1\n",
       "dtype: int64"
      ]
     },
     "execution_count": 11,
     "metadata": {},
     "output_type": "execute_result"
    }
   ],
   "source": [
    "# Now moving to revew the content of columns to see if the values in them would help in our analysis. \n",
    "df.nunique().sort_values(ascending=False)"
   ]
  },
  {
   "cell_type": "code",
   "execution_count": 12,
   "id": "d1c87184",
   "metadata": {},
   "outputs": [],
   "source": [
    "# Since we are looking at new customers,there is no point of having historical data in the dataset (as that data will be blank for new customers).\n",
    "# Reading through the info dataset below are the columns that can be deleted\n",
    "#  collection_recovery_fee  post charge off collection fee\n",
    "#  delinq_2yrs  The number of 30+ days past-due incidences of delinquency in the borrower's credit file for the past 2 years\n",
    "#  earliest_cr_line  The month the borrower's earliest reported credit line was opened\n",
    "#  inq_last_6mths  The number of inquiries in past 6 months (excluding auto and mortgage inquiries)\n",
    "#  last_credit_pull_d  The most recent month LC pulled credit for this loan\n",
    "#  last_pymnt_amnt  Last total payment amount received\n",
    "#  last_pymnt_d  Last month payment was received\n",
    "#  out_prncp  Remaining outstanding principal for total amount funded\n",
    "#  out_prncp_inv  Remaining outstanding principal for portion of total amount funded by investors\n",
    "#  recoveries  post charge off gross recovery\n",
    "#  revol_bal  Total credit revolving balance\n",
    "#  revol_util  Revolving line utilization rate, or the amount of credit the borrower is using relative to all available revolving credit.\n",
    "#  total_acc  The total number of credit lines currently in the borrower's credit file\n",
    "#  total_pymnt  Payments received to date for total amount funded\n",
    "#  total_pymnt_inv  Payments received to date for portion of total amount funded by investors\n",
    "#  total_rec_int  Interest received to date\n",
    "#  total_rec_late_fee  Late fees received to date\n",
    "#  total_rec_prncp  Principal received to date\n",
    "df = df.drop(['collection_recovery_fee',\n",
    "'delinq_2yrs',\n",
    "'earliest_cr_line',\n",
    "'inq_last_6mths',\n",
    "'last_credit_pull_d',\n",
    "'last_pymnt_amnt',\n",
    "'last_pymnt_d',\n",
    "'out_prncp',\n",
    "'out_prncp_inv',\n",
    "'recoveries',\n",
    "'revol_bal',\n",
    "'revol_util',\n",
    "'total_acc',\n",
    "'total_pymnt',\n",
    "'total_pymnt_inv',\n",
    "'total_rec_int',\n",
    "'total_rec_late_fee',\n",
    "'total_rec_prncp'],axis=1)"
   ]
  },
  {
   "cell_type": "code",
   "execution_count": 13,
   "id": "f9311cf7",
   "metadata": {},
   "outputs": [
    {
     "data": {
      "text/plain": [
       "(39717, 35)"
      ]
     },
     "execution_count": 13,
     "metadata": {},
     "output_type": "execute_result"
    }
   ],
   "source": [
    "df.shape"
   ]
  },
  {
   "cell_type": "code",
   "execution_count": 14,
   "id": "b19cafb6",
   "metadata": {},
   "outputs": [
    {
     "data": {
      "text/plain": [
       "id                            39717\n",
       "url                           39717\n",
       "member_id                     39717\n",
       "emp_title                     28820\n",
       "title                         19615\n",
       "installment                   15383\n",
       "funded_amnt_inv                8205\n",
       "annual_inc                     5318\n",
       "dti                            2868\n",
       "funded_amnt                    1041\n",
       "loan_amnt                       885\n",
       "zip_code                        823\n",
       "int_rate                        371\n",
       "issue_d                          55\n",
       "addr_state                       50\n",
       "open_acc                         40\n",
       "sub_grade                        35\n",
       "purpose                          14\n",
       "emp_length                       11\n",
       "grade                             7\n",
       "pub_rec                           5\n",
       "home_ownership                    5\n",
       "pub_rec_bankruptcies              3\n",
       "verification_status               3\n",
       "loan_status                       3\n",
       "term                              2\n",
       "acc_now_delinq                    1\n",
       "delinq_amnt                       1\n",
       "chargeoff_within_12_mths          1\n",
       "pymnt_plan                        1\n",
       "application_type                  1\n",
       "policy_code                       1\n",
       "collections_12_mths_ex_med        1\n",
       "initial_list_status               1\n",
       "tax_liens                         1\n",
       "dtype: int64"
      ]
     },
     "execution_count": 14,
     "metadata": {},
     "output_type": "execute_result"
    }
   ],
   "source": [
    "df.nunique().sort_values(ascending=False)"
   ]
  },
  {
   "cell_type": "code",
   "execution_count": 15,
   "id": "63ef0b7c",
   "metadata": {},
   "outputs": [
    {
     "data": {
      "text/html": [
       "<div>\n",
       "<style scoped>\n",
       "    .dataframe tbody tr th:only-of-type {\n",
       "        vertical-align: middle;\n",
       "    }\n",
       "\n",
       "    .dataframe tbody tr th {\n",
       "        vertical-align: top;\n",
       "    }\n",
       "\n",
       "    .dataframe thead th {\n",
       "        text-align: right;\n",
       "    }\n",
       "</style>\n",
       "<table border=\"1\" class=\"dataframe\">\n",
       "  <thead>\n",
       "    <tr style=\"text-align: right;\">\n",
       "      <th></th>\n",
       "      <th>id</th>\n",
       "      <th>url</th>\n",
       "      <th>member_id</th>\n",
       "      <th>emp_title</th>\n",
       "    </tr>\n",
       "  </thead>\n",
       "  <tbody>\n",
       "    <tr>\n",
       "      <th>0</th>\n",
       "      <td>1077501</td>\n",
       "      <td>https://lendingclub.com/browse/loanDetail.acti...</td>\n",
       "      <td>1296599</td>\n",
       "      <td>NaN</td>\n",
       "    </tr>\n",
       "    <tr>\n",
       "      <th>1</th>\n",
       "      <td>1077430</td>\n",
       "      <td>https://lendingclub.com/browse/loanDetail.acti...</td>\n",
       "      <td>1314167</td>\n",
       "      <td>Ryder</td>\n",
       "    </tr>\n",
       "    <tr>\n",
       "      <th>2</th>\n",
       "      <td>1077175</td>\n",
       "      <td>https://lendingclub.com/browse/loanDetail.acti...</td>\n",
       "      <td>1313524</td>\n",
       "      <td>NaN</td>\n",
       "    </tr>\n",
       "    <tr>\n",
       "      <th>3</th>\n",
       "      <td>1076863</td>\n",
       "      <td>https://lendingclub.com/browse/loanDetail.acti...</td>\n",
       "      <td>1277178</td>\n",
       "      <td>AIR RESOURCES BOARD</td>\n",
       "    </tr>\n",
       "    <tr>\n",
       "      <th>4</th>\n",
       "      <td>1075358</td>\n",
       "      <td>https://lendingclub.com/browse/loanDetail.acti...</td>\n",
       "      <td>1311748</td>\n",
       "      <td>University Medical Group</td>\n",
       "    </tr>\n",
       "    <tr>\n",
       "      <th>...</th>\n",
       "      <td>...</td>\n",
       "      <td>...</td>\n",
       "      <td>...</td>\n",
       "      <td>...</td>\n",
       "    </tr>\n",
       "    <tr>\n",
       "      <th>39712</th>\n",
       "      <td>92187</td>\n",
       "      <td>https://lendingclub.com/browse/loanDetail.acti...</td>\n",
       "      <td>92174</td>\n",
       "      <td>FiSite Research</td>\n",
       "    </tr>\n",
       "    <tr>\n",
       "      <th>39713</th>\n",
       "      <td>90665</td>\n",
       "      <td>https://lendingclub.com/browse/loanDetail.acti...</td>\n",
       "      <td>90607</td>\n",
       "      <td>Squarewave Solutions, Ltd.</td>\n",
       "    </tr>\n",
       "    <tr>\n",
       "      <th>39714</th>\n",
       "      <td>90395</td>\n",
       "      <td>https://lendingclub.com/browse/loanDetail.acti...</td>\n",
       "      <td>90390</td>\n",
       "      <td>NaN</td>\n",
       "    </tr>\n",
       "    <tr>\n",
       "      <th>39715</th>\n",
       "      <td>90376</td>\n",
       "      <td>https://lendingclub.com/browse/loanDetail.acti...</td>\n",
       "      <td>89243</td>\n",
       "      <td>NaN</td>\n",
       "    </tr>\n",
       "    <tr>\n",
       "      <th>39716</th>\n",
       "      <td>87023</td>\n",
       "      <td>https://lendingclub.com/browse/loanDetail.acti...</td>\n",
       "      <td>86999</td>\n",
       "      <td>Evergreen Center</td>\n",
       "    </tr>\n",
       "  </tbody>\n",
       "</table>\n",
       "<p>39717 rows × 4 columns</p>\n",
       "</div>"
      ],
      "text/plain": [
       "            id                                                url  member_id  \\\n",
       "0      1077501  https://lendingclub.com/browse/loanDetail.acti...    1296599   \n",
       "1      1077430  https://lendingclub.com/browse/loanDetail.acti...    1314167   \n",
       "2      1077175  https://lendingclub.com/browse/loanDetail.acti...    1313524   \n",
       "3      1076863  https://lendingclub.com/browse/loanDetail.acti...    1277178   \n",
       "4      1075358  https://lendingclub.com/browse/loanDetail.acti...    1311748   \n",
       "...        ...                                                ...        ...   \n",
       "39712    92187  https://lendingclub.com/browse/loanDetail.acti...      92174   \n",
       "39713    90665  https://lendingclub.com/browse/loanDetail.acti...      90607   \n",
       "39714    90395  https://lendingclub.com/browse/loanDetail.acti...      90390   \n",
       "39715    90376  https://lendingclub.com/browse/loanDetail.acti...      89243   \n",
       "39716    87023  https://lendingclub.com/browse/loanDetail.acti...      86999   \n",
       "\n",
       "                        emp_title  \n",
       "0                             NaN  \n",
       "1                           Ryder  \n",
       "2                             NaN  \n",
       "3             AIR RESOURCES BOARD  \n",
       "4        University Medical Group  \n",
       "...                           ...  \n",
       "39712             FiSite Research  \n",
       "39713  Squarewave Solutions, Ltd.  \n",
       "39714                         NaN  \n",
       "39715                         NaN  \n",
       "39716            Evergreen Center  \n",
       "\n",
       "[39717 rows x 4 columns]"
      ]
     },
     "execution_count": 15,
     "metadata": {},
     "output_type": "execute_result"
    }
   ],
   "source": [
    "df[['id','url','member_id','emp_title']]\n",
    "# All the above columns can be deleted as they hold no significance for our analysis\n"
   ]
  },
  {
   "cell_type": "code",
   "execution_count": 16,
   "id": "056cf5d1",
   "metadata": {},
   "outputs": [],
   "source": [
    "df=df.drop(['id','url','member_id','emp_title'],axis=1)"
   ]
  },
  {
   "cell_type": "code",
   "execution_count": 17,
   "id": "d62fc992",
   "metadata": {},
   "outputs": [
    {
     "data": {
      "text/plain": [
       "(39717, 31)"
      ]
     },
     "execution_count": 17,
     "metadata": {},
     "output_type": "execute_result"
    }
   ],
   "source": [
    "df.shape"
   ]
  },
  {
   "cell_type": "code",
   "execution_count": 18,
   "id": "751e4ea2",
   "metadata": {},
   "outputs": [],
   "source": [
    "#dropping all cols that have only one value\n",
    "\n",
    "dropcols = df.columns[df.nunique()==1]\n",
    "df = df.drop(dropcols,axis=1)\n",
    "# There are 9 columns that have the same value across all rows (for the same col). This would not help in analysis and hence dropping"
   ]
  },
  {
   "cell_type": "code",
   "execution_count": 19,
   "id": "fdac28c7",
   "metadata": {},
   "outputs": [
    {
     "data": {
      "text/plain": [
       "(39717, 22)"
      ]
     },
     "execution_count": 19,
     "metadata": {},
     "output_type": "execute_result"
    }
   ],
   "source": [
    "df.shape"
   ]
  },
  {
   "cell_type": "code",
   "execution_count": 20,
   "id": "e83f4569",
   "metadata": {},
   "outputs": [
    {
     "data": {
      "text/html": [
       "<div>\n",
       "<style scoped>\n",
       "    .dataframe tbody tr th:only-of-type {\n",
       "        vertical-align: middle;\n",
       "    }\n",
       "\n",
       "    .dataframe tbody tr th {\n",
       "        vertical-align: top;\n",
       "    }\n",
       "\n",
       "    .dataframe thead th {\n",
       "        text-align: right;\n",
       "    }\n",
       "</style>\n",
       "<table border=\"1\" class=\"dataframe\">\n",
       "  <thead>\n",
       "    <tr style=\"text-align: right;\">\n",
       "      <th></th>\n",
       "      <th>loan_amnt</th>\n",
       "      <th>funded_amnt</th>\n",
       "      <th>funded_amnt_inv</th>\n",
       "      <th>term</th>\n",
       "      <th>int_rate</th>\n",
       "      <th>installment</th>\n",
       "      <th>grade</th>\n",
       "      <th>sub_grade</th>\n",
       "      <th>emp_length</th>\n",
       "      <th>home_ownership</th>\n",
       "      <th>...</th>\n",
       "      <th>issue_d</th>\n",
       "      <th>loan_status</th>\n",
       "      <th>purpose</th>\n",
       "      <th>title</th>\n",
       "      <th>zip_code</th>\n",
       "      <th>addr_state</th>\n",
       "      <th>dti</th>\n",
       "      <th>open_acc</th>\n",
       "      <th>pub_rec</th>\n",
       "      <th>pub_rec_bankruptcies</th>\n",
       "    </tr>\n",
       "  </thead>\n",
       "  <tbody>\n",
       "    <tr>\n",
       "      <th>0</th>\n",
       "      <td>5000</td>\n",
       "      <td>5000</td>\n",
       "      <td>4975.0</td>\n",
       "      <td>36 months</td>\n",
       "      <td>10.65%</td>\n",
       "      <td>162.87</td>\n",
       "      <td>B</td>\n",
       "      <td>B2</td>\n",
       "      <td>10+ years</td>\n",
       "      <td>RENT</td>\n",
       "      <td>...</td>\n",
       "      <td>Dec-11</td>\n",
       "      <td>Fully Paid</td>\n",
       "      <td>credit_card</td>\n",
       "      <td>Computer</td>\n",
       "      <td>860xx</td>\n",
       "      <td>AZ</td>\n",
       "      <td>27.65</td>\n",
       "      <td>3</td>\n",
       "      <td>0</td>\n",
       "      <td>0.0</td>\n",
       "    </tr>\n",
       "    <tr>\n",
       "      <th>1</th>\n",
       "      <td>2500</td>\n",
       "      <td>2500</td>\n",
       "      <td>2500.0</td>\n",
       "      <td>60 months</td>\n",
       "      <td>15.27%</td>\n",
       "      <td>59.83</td>\n",
       "      <td>C</td>\n",
       "      <td>C4</td>\n",
       "      <td>&lt; 1 year</td>\n",
       "      <td>RENT</td>\n",
       "      <td>...</td>\n",
       "      <td>Dec-11</td>\n",
       "      <td>Charged Off</td>\n",
       "      <td>car</td>\n",
       "      <td>bike</td>\n",
       "      <td>309xx</td>\n",
       "      <td>GA</td>\n",
       "      <td>1.00</td>\n",
       "      <td>3</td>\n",
       "      <td>0</td>\n",
       "      <td>0.0</td>\n",
       "    </tr>\n",
       "    <tr>\n",
       "      <th>2</th>\n",
       "      <td>2400</td>\n",
       "      <td>2400</td>\n",
       "      <td>2400.0</td>\n",
       "      <td>36 months</td>\n",
       "      <td>15.96%</td>\n",
       "      <td>84.33</td>\n",
       "      <td>C</td>\n",
       "      <td>C5</td>\n",
       "      <td>10+ years</td>\n",
       "      <td>RENT</td>\n",
       "      <td>...</td>\n",
       "      <td>Dec-11</td>\n",
       "      <td>Fully Paid</td>\n",
       "      <td>small_business</td>\n",
       "      <td>real estate business</td>\n",
       "      <td>606xx</td>\n",
       "      <td>IL</td>\n",
       "      <td>8.72</td>\n",
       "      <td>2</td>\n",
       "      <td>0</td>\n",
       "      <td>0.0</td>\n",
       "    </tr>\n",
       "    <tr>\n",
       "      <th>3</th>\n",
       "      <td>10000</td>\n",
       "      <td>10000</td>\n",
       "      <td>10000.0</td>\n",
       "      <td>36 months</td>\n",
       "      <td>13.49%</td>\n",
       "      <td>339.31</td>\n",
       "      <td>C</td>\n",
       "      <td>C1</td>\n",
       "      <td>10+ years</td>\n",
       "      <td>RENT</td>\n",
       "      <td>...</td>\n",
       "      <td>Dec-11</td>\n",
       "      <td>Fully Paid</td>\n",
       "      <td>other</td>\n",
       "      <td>personel</td>\n",
       "      <td>917xx</td>\n",
       "      <td>CA</td>\n",
       "      <td>20.00</td>\n",
       "      <td>10</td>\n",
       "      <td>0</td>\n",
       "      <td>0.0</td>\n",
       "    </tr>\n",
       "    <tr>\n",
       "      <th>4</th>\n",
       "      <td>3000</td>\n",
       "      <td>3000</td>\n",
       "      <td>3000.0</td>\n",
       "      <td>60 months</td>\n",
       "      <td>12.69%</td>\n",
       "      <td>67.79</td>\n",
       "      <td>B</td>\n",
       "      <td>B5</td>\n",
       "      <td>1 year</td>\n",
       "      <td>RENT</td>\n",
       "      <td>...</td>\n",
       "      <td>Dec-11</td>\n",
       "      <td>Current</td>\n",
       "      <td>other</td>\n",
       "      <td>Personal</td>\n",
       "      <td>972xx</td>\n",
       "      <td>OR</td>\n",
       "      <td>17.94</td>\n",
       "      <td>15</td>\n",
       "      <td>0</td>\n",
       "      <td>0.0</td>\n",
       "    </tr>\n",
       "  </tbody>\n",
       "</table>\n",
       "<p>5 rows × 22 columns</p>\n",
       "</div>"
      ],
      "text/plain": [
       "   loan_amnt  funded_amnt  funded_amnt_inv        term int_rate  installment  \\\n",
       "0       5000         5000           4975.0   36 months   10.65%       162.87   \n",
       "1       2500         2500           2500.0   60 months   15.27%        59.83   \n",
       "2       2400         2400           2400.0   36 months   15.96%        84.33   \n",
       "3      10000        10000          10000.0   36 months   13.49%       339.31   \n",
       "4       3000         3000           3000.0   60 months   12.69%        67.79   \n",
       "\n",
       "  grade sub_grade emp_length home_ownership  ...  issue_d  loan_status  \\\n",
       "0     B        B2  10+ years           RENT  ...   Dec-11   Fully Paid   \n",
       "1     C        C4   < 1 year           RENT  ...   Dec-11  Charged Off   \n",
       "2     C        C5  10+ years           RENT  ...   Dec-11   Fully Paid   \n",
       "3     C        C1  10+ years           RENT  ...   Dec-11   Fully Paid   \n",
       "4     B        B5     1 year           RENT  ...   Dec-11      Current   \n",
       "\n",
       "          purpose                 title zip_code addr_state    dti open_acc  \\\n",
       "0     credit_card              Computer    860xx         AZ  27.65        3   \n",
       "1             car                  bike    309xx         GA   1.00        3   \n",
       "2  small_business  real estate business    606xx         IL   8.72        2   \n",
       "3           other              personel    917xx         CA  20.00       10   \n",
       "4           other              Personal    972xx         OR  17.94       15   \n",
       "\n",
       "   pub_rec  pub_rec_bankruptcies  \n",
       "0        0                   0.0  \n",
       "1        0                   0.0  \n",
       "2        0                   0.0  \n",
       "3        0                   0.0  \n",
       "4        0                   0.0  \n",
       "\n",
       "[5 rows x 22 columns]"
      ]
     },
     "execution_count": 20,
     "metadata": {},
     "output_type": "execute_result"
    }
   ],
   "source": [
    "df.head()"
   ]
  },
  {
   "cell_type": "code",
   "execution_count": 21,
   "id": "2749c25c",
   "metadata": {},
   "outputs": [
    {
     "data": {
      "text/plain": [
       "loan_amnt                  0\n",
       "funded_amnt                0\n",
       "funded_amnt_inv            0\n",
       "term                       0\n",
       "int_rate                   0\n",
       "installment                0\n",
       "grade                      0\n",
       "sub_grade                  0\n",
       "emp_length              1075\n",
       "home_ownership             0\n",
       "annual_inc                 0\n",
       "verification_status        0\n",
       "issue_d                    0\n",
       "loan_status                0\n",
       "purpose                    0\n",
       "title                     11\n",
       "zip_code                   0\n",
       "addr_state                 0\n",
       "dti                        0\n",
       "open_acc                   0\n",
       "pub_rec                    0\n",
       "pub_rec_bankruptcies     697\n",
       "dtype: int64"
      ]
     },
     "execution_count": 21,
     "metadata": {},
     "output_type": "execute_result"
    }
   ],
   "source": [
    "#checking the dataset to see how many NA are still left\n",
    "df.isna().sum()"
   ]
  },
  {
   "cell_type": "code",
   "execution_count": 22,
   "id": "39303edc",
   "metadata": {},
   "outputs": [],
   "source": [
    "#filling the NA with dummy values\n",
    "df['emp_length'] = df['emp_length'].fillna(\"NotProvided\")\n"
   ]
  },
  {
   "cell_type": "code",
   "execution_count": 23,
   "id": "357cb100",
   "metadata": {},
   "outputs": [
    {
     "data": {
      "text/plain": [
       "loan_amnt                 0\n",
       "funded_amnt               0\n",
       "funded_amnt_inv           0\n",
       "term                      0\n",
       "int_rate                  0\n",
       "installment               0\n",
       "grade                     0\n",
       "sub_grade                 0\n",
       "emp_length                0\n",
       "home_ownership            0\n",
       "annual_inc                0\n",
       "verification_status       0\n",
       "issue_d                   0\n",
       "loan_status               0\n",
       "purpose                   0\n",
       "title                    11\n",
       "zip_code                  0\n",
       "addr_state                0\n",
       "dti                       0\n",
       "open_acc                  0\n",
       "pub_rec                   0\n",
       "pub_rec_bankruptcies    697\n",
       "dtype: int64"
      ]
     },
     "execution_count": 23,
     "metadata": {},
     "output_type": "execute_result"
    }
   ],
   "source": [
    "df.isna().sum()"
   ]
  },
  {
   "cell_type": "code",
   "execution_count": 24,
   "id": "7b20e237",
   "metadata": {},
   "outputs": [
    {
     "data": {
      "text/plain": [
       "pub_rec_bankruptcies\n",
       "0.0    37339\n",
       "1.0     1674\n",
       "2.0        7\n",
       "Name: count, dtype: int64"
      ]
     },
     "execution_count": 24,
     "metadata": {},
     "output_type": "execute_result"
    }
   ],
   "source": [
    "df['pub_rec_bankruptcies'].value_counts()"
   ]
  },
  {
   "cell_type": "code",
   "execution_count": 25,
   "id": "9654207f",
   "metadata": {},
   "outputs": [],
   "source": [
    "#updating the pub_rec_bankruptcies to Zero\n",
    "df['pub_rec_bankruptcies'] = df['pub_rec_bankruptcies'].fillna(0)\n"
   ]
  },
  {
   "cell_type": "code",
   "execution_count": 26,
   "id": "643497a7",
   "metadata": {},
   "outputs": [
    {
     "data": {
      "text/plain": [
       "loan_amnt                0\n",
       "funded_amnt              0\n",
       "funded_amnt_inv          0\n",
       "term                     0\n",
       "int_rate                 0\n",
       "installment              0\n",
       "grade                    0\n",
       "sub_grade                0\n",
       "emp_length               0\n",
       "home_ownership           0\n",
       "annual_inc               0\n",
       "verification_status      0\n",
       "issue_d                  0\n",
       "loan_status              0\n",
       "purpose                  0\n",
       "title                   11\n",
       "zip_code                 0\n",
       "addr_state               0\n",
       "dti                      0\n",
       "open_acc                 0\n",
       "pub_rec                  0\n",
       "pub_rec_bankruptcies     0\n",
       "dtype: int64"
      ]
     },
     "execution_count": 26,
     "metadata": {},
     "output_type": "execute_result"
    }
   ],
   "source": [
    "#checking the dataset to see how many NA are still left\n",
    "df.isna().sum()"
   ]
  },
  {
   "cell_type": "code",
   "execution_count": 27,
   "id": "0287a242",
   "metadata": {},
   "outputs": [
    {
     "data": {
      "text/html": [
       "<div>\n",
       "<style scoped>\n",
       "    .dataframe tbody tr th:only-of-type {\n",
       "        vertical-align: middle;\n",
       "    }\n",
       "\n",
       "    .dataframe tbody tr th {\n",
       "        vertical-align: top;\n",
       "    }\n",
       "\n",
       "    .dataframe thead th {\n",
       "        text-align: right;\n",
       "    }\n",
       "</style>\n",
       "<table border=\"1\" class=\"dataframe\">\n",
       "  <thead>\n",
       "    <tr style=\"text-align: right;\">\n",
       "      <th></th>\n",
       "      <th>loan_amnt</th>\n",
       "      <th>funded_amnt</th>\n",
       "      <th>funded_amnt_inv</th>\n",
       "      <th>term</th>\n",
       "      <th>int_rate</th>\n",
       "      <th>installment</th>\n",
       "      <th>grade</th>\n",
       "      <th>sub_grade</th>\n",
       "      <th>emp_length</th>\n",
       "      <th>home_ownership</th>\n",
       "      <th>...</th>\n",
       "      <th>issue_d</th>\n",
       "      <th>loan_status</th>\n",
       "      <th>purpose</th>\n",
       "      <th>title</th>\n",
       "      <th>zip_code</th>\n",
       "      <th>addr_state</th>\n",
       "      <th>dti</th>\n",
       "      <th>open_acc</th>\n",
       "      <th>pub_rec</th>\n",
       "      <th>pub_rec_bankruptcies</th>\n",
       "    </tr>\n",
       "  </thead>\n",
       "  <tbody>\n",
       "    <tr>\n",
       "      <th>0</th>\n",
       "      <td>5000</td>\n",
       "      <td>5000</td>\n",
       "      <td>4975.0</td>\n",
       "      <td>36 months</td>\n",
       "      <td>10.65%</td>\n",
       "      <td>162.87</td>\n",
       "      <td>B</td>\n",
       "      <td>B2</td>\n",
       "      <td>10+ years</td>\n",
       "      <td>RENT</td>\n",
       "      <td>...</td>\n",
       "      <td>Dec-11</td>\n",
       "      <td>Fully Paid</td>\n",
       "      <td>credit_card</td>\n",
       "      <td>Computer</td>\n",
       "      <td>860xx</td>\n",
       "      <td>AZ</td>\n",
       "      <td>27.65</td>\n",
       "      <td>3</td>\n",
       "      <td>0</td>\n",
       "      <td>0.0</td>\n",
       "    </tr>\n",
       "    <tr>\n",
       "      <th>1</th>\n",
       "      <td>2500</td>\n",
       "      <td>2500</td>\n",
       "      <td>2500.0</td>\n",
       "      <td>60 months</td>\n",
       "      <td>15.27%</td>\n",
       "      <td>59.83</td>\n",
       "      <td>C</td>\n",
       "      <td>C4</td>\n",
       "      <td>&lt; 1 year</td>\n",
       "      <td>RENT</td>\n",
       "      <td>...</td>\n",
       "      <td>Dec-11</td>\n",
       "      <td>Charged Off</td>\n",
       "      <td>car</td>\n",
       "      <td>bike</td>\n",
       "      <td>309xx</td>\n",
       "      <td>GA</td>\n",
       "      <td>1.00</td>\n",
       "      <td>3</td>\n",
       "      <td>0</td>\n",
       "      <td>0.0</td>\n",
       "    </tr>\n",
       "    <tr>\n",
       "      <th>2</th>\n",
       "      <td>2400</td>\n",
       "      <td>2400</td>\n",
       "      <td>2400.0</td>\n",
       "      <td>36 months</td>\n",
       "      <td>15.96%</td>\n",
       "      <td>84.33</td>\n",
       "      <td>C</td>\n",
       "      <td>C5</td>\n",
       "      <td>10+ years</td>\n",
       "      <td>RENT</td>\n",
       "      <td>...</td>\n",
       "      <td>Dec-11</td>\n",
       "      <td>Fully Paid</td>\n",
       "      <td>small_business</td>\n",
       "      <td>real estate business</td>\n",
       "      <td>606xx</td>\n",
       "      <td>IL</td>\n",
       "      <td>8.72</td>\n",
       "      <td>2</td>\n",
       "      <td>0</td>\n",
       "      <td>0.0</td>\n",
       "    </tr>\n",
       "    <tr>\n",
       "      <th>3</th>\n",
       "      <td>10000</td>\n",
       "      <td>10000</td>\n",
       "      <td>10000.0</td>\n",
       "      <td>36 months</td>\n",
       "      <td>13.49%</td>\n",
       "      <td>339.31</td>\n",
       "      <td>C</td>\n",
       "      <td>C1</td>\n",
       "      <td>10+ years</td>\n",
       "      <td>RENT</td>\n",
       "      <td>...</td>\n",
       "      <td>Dec-11</td>\n",
       "      <td>Fully Paid</td>\n",
       "      <td>other</td>\n",
       "      <td>personel</td>\n",
       "      <td>917xx</td>\n",
       "      <td>CA</td>\n",
       "      <td>20.00</td>\n",
       "      <td>10</td>\n",
       "      <td>0</td>\n",
       "      <td>0.0</td>\n",
       "    </tr>\n",
       "    <tr>\n",
       "      <th>4</th>\n",
       "      <td>3000</td>\n",
       "      <td>3000</td>\n",
       "      <td>3000.0</td>\n",
       "      <td>60 months</td>\n",
       "      <td>12.69%</td>\n",
       "      <td>67.79</td>\n",
       "      <td>B</td>\n",
       "      <td>B5</td>\n",
       "      <td>1 year</td>\n",
       "      <td>RENT</td>\n",
       "      <td>...</td>\n",
       "      <td>Dec-11</td>\n",
       "      <td>Current</td>\n",
       "      <td>other</td>\n",
       "      <td>Personal</td>\n",
       "      <td>972xx</td>\n",
       "      <td>OR</td>\n",
       "      <td>17.94</td>\n",
       "      <td>15</td>\n",
       "      <td>0</td>\n",
       "      <td>0.0</td>\n",
       "    </tr>\n",
       "  </tbody>\n",
       "</table>\n",
       "<p>5 rows × 22 columns</p>\n",
       "</div>"
      ],
      "text/plain": [
       "   loan_amnt  funded_amnt  funded_amnt_inv        term int_rate  installment  \\\n",
       "0       5000         5000           4975.0   36 months   10.65%       162.87   \n",
       "1       2500         2500           2500.0   60 months   15.27%        59.83   \n",
       "2       2400         2400           2400.0   36 months   15.96%        84.33   \n",
       "3      10000        10000          10000.0   36 months   13.49%       339.31   \n",
       "4       3000         3000           3000.0   60 months   12.69%        67.79   \n",
       "\n",
       "  grade sub_grade emp_length home_ownership  ...  issue_d  loan_status  \\\n",
       "0     B        B2  10+ years           RENT  ...   Dec-11   Fully Paid   \n",
       "1     C        C4   < 1 year           RENT  ...   Dec-11  Charged Off   \n",
       "2     C        C5  10+ years           RENT  ...   Dec-11   Fully Paid   \n",
       "3     C        C1  10+ years           RENT  ...   Dec-11   Fully Paid   \n",
       "4     B        B5     1 year           RENT  ...   Dec-11      Current   \n",
       "\n",
       "          purpose                 title zip_code addr_state    dti open_acc  \\\n",
       "0     credit_card              Computer    860xx         AZ  27.65        3   \n",
       "1             car                  bike    309xx         GA   1.00        3   \n",
       "2  small_business  real estate business    606xx         IL   8.72        2   \n",
       "3           other              personel    917xx         CA  20.00       10   \n",
       "4           other              Personal    972xx         OR  17.94       15   \n",
       "\n",
       "   pub_rec  pub_rec_bankruptcies  \n",
       "0        0                   0.0  \n",
       "1        0                   0.0  \n",
       "2        0                   0.0  \n",
       "3        0                   0.0  \n",
       "4        0                   0.0  \n",
       "\n",
       "[5 rows x 22 columns]"
      ]
     },
     "execution_count": 27,
     "metadata": {},
     "output_type": "execute_result"
    }
   ],
   "source": [
    "df.head(5)"
   ]
  },
  {
   "cell_type": "code",
   "execution_count": 28,
   "id": "11b9d3c5",
   "metadata": {},
   "outputs": [
    {
     "name": "stdout",
     "output_type": "stream",
     "text": [
      "<class 'pandas.core.frame.DataFrame'>\n",
      "RangeIndex: 39717 entries, 0 to 39716\n",
      "Data columns (total 22 columns):\n",
      " #   Column                Non-Null Count  Dtype  \n",
      "---  ------                --------------  -----  \n",
      " 0   loan_amnt             39717 non-null  int64  \n",
      " 1   funded_amnt           39717 non-null  int64  \n",
      " 2   funded_amnt_inv       39717 non-null  float64\n",
      " 3   term                  39717 non-null  object \n",
      " 4   int_rate              39717 non-null  object \n",
      " 5   installment           39717 non-null  float64\n",
      " 6   grade                 39717 non-null  object \n",
      " 7   sub_grade             39717 non-null  object \n",
      " 8   emp_length            39717 non-null  object \n",
      " 9   home_ownership        39717 non-null  object \n",
      " 10  annual_inc            39717 non-null  float64\n",
      " 11  verification_status   39717 non-null  object \n",
      " 12  issue_d               39717 non-null  object \n",
      " 13  loan_status           39717 non-null  object \n",
      " 14  purpose               39717 non-null  object \n",
      " 15  title                 39706 non-null  object \n",
      " 16  zip_code              39717 non-null  object \n",
      " 17  addr_state            39717 non-null  object \n",
      " 18  dti                   39717 non-null  float64\n",
      " 19  open_acc              39717 non-null  int64  \n",
      " 20  pub_rec               39717 non-null  int64  \n",
      " 21  pub_rec_bankruptcies  39717 non-null  float64\n",
      "dtypes: float64(5), int64(4), object(13)\n",
      "memory usage: 6.7+ MB\n"
     ]
    }
   ],
   "source": [
    "df.info()"
   ]
  },
  {
   "cell_type": "code",
   "execution_count": 29,
   "id": "c543aa9f",
   "metadata": {},
   "outputs": [],
   "source": [
    "# removing \"months\" in term and converting to int\n",
    "df['term'] = df['term'].apply(lambda x: x.replace('months',''))\n",
    "df['term'] = df['term'].astype('int')\n",
    "\n",
    "# removing \"%\" in int_rate and converting to int\n",
    "df['int_rate'] = df['int_rate'].apply(lambda x: x.replace('%',''))\n",
    "df['int_rate'] = df['int_rate'].astype('float')"
   ]
  },
  {
   "cell_type": "code",
   "execution_count": 30,
   "id": "191cf839",
   "metadata": {},
   "outputs": [],
   "source": [
    "df['issue_d'].value_counts()\n",
    "df['issue_d'] = pd.to_datetime(df['issue_d'],format='%b-%y')\n",
    "df['issue_year'] = pd.to_datetime(df['issue_d'],format='%b-%y').dt.year\n",
    "df['issue_month'] = pd.to_datetime(df['issue_d'],format='%b-%y').dt.month"
   ]
  },
  {
   "cell_type": "code",
   "execution_count": 34,
   "id": "398c7434",
   "metadata": {},
   "outputs": [
    {
     "name": "stdout",
     "output_type": "stream",
     "text": [
      "<class 'pandas.core.frame.DataFrame'>\n",
      "RangeIndex: 39717 entries, 0 to 39716\n",
      "Data columns (total 24 columns):\n",
      " #   Column                Non-Null Count  Dtype         \n",
      "---  ------                --------------  -----         \n",
      " 0   loan_amnt             39717 non-null  int64         \n",
      " 1   funded_amnt           39717 non-null  int64         \n",
      " 2   funded_amnt_inv       39717 non-null  float64       \n",
      " 3   term                  39717 non-null  int32         \n",
      " 4   int_rate              39717 non-null  float64       \n",
      " 5   installment           39717 non-null  float64       \n",
      " 6   grade                 39717 non-null  object        \n",
      " 7   sub_grade             39717 non-null  object        \n",
      " 8   emp_length            39717 non-null  object        \n",
      " 9   home_ownership        39717 non-null  object        \n",
      " 10  annual_inc            39717 non-null  float64       \n",
      " 11  verification_status   39717 non-null  object        \n",
      " 12  issue_d               39717 non-null  datetime64[ns]\n",
      " 13  loan_status           39717 non-null  object        \n",
      " 14  purpose               39717 non-null  object        \n",
      " 15  title                 39706 non-null  object        \n",
      " 16  zip_code              39717 non-null  object        \n",
      " 17  addr_state            39717 non-null  object        \n",
      " 18  dti                   39717 non-null  float64       \n",
      " 19  open_acc              39717 non-null  int64         \n",
      " 20  pub_rec               39717 non-null  int64         \n",
      " 21  pub_rec_bankruptcies  39717 non-null  float64       \n",
      " 22  issue_year            39717 non-null  int32         \n",
      " 23  issue_month           39717 non-null  int32         \n",
      "dtypes: datetime64[ns](1), float64(6), int32(3), int64(4), object(10)\n",
      "memory usage: 6.8+ MB\n"
     ]
    }
   ],
   "source": [
    "df.info()"
   ]
  },
  {
   "cell_type": "code",
   "execution_count": 42,
   "id": "ad688059",
   "metadata": {},
   "outputs": [
    {
     "data": {
      "text/plain": [
       "loan_amnt                              2500\n",
       "funded_amnt                            2500\n",
       "funded_amnt_inv                      2500.0\n",
       "term                                     60\n",
       "int_rate                              15.27\n",
       "installment                           59.83\n",
       "grade                                     C\n",
       "sub_grade                                C4\n",
       "emp_length                         < 1 year\n",
       "home_ownership                         RENT\n",
       "annual_inc                          30000.0\n",
       "verification_status         Source Verified\n",
       "issue_d                 2011-12-01 00:00:00\n",
       "loan_status                     Charged Off\n",
       "purpose                                 car\n",
       "title                                  bike\n",
       "zip_code                              309xx\n",
       "addr_state                               GA\n",
       "dti                                     1.0\n",
       "open_acc                                  3\n",
       "pub_rec                                   0\n",
       "pub_rec_bankruptcies                    0.0\n",
       "issue_year                             2011\n",
       "issue_month                              12\n",
       "Name: 1, dtype: object"
      ]
     },
     "execution_count": 42,
     "metadata": {},
     "output_type": "execute_result"
    }
   ],
   "source": [
    "df.loc[1,:]"
   ]
  },
  {
   "cell_type": "code",
   "execution_count": 48,
   "id": "cb7226a7",
   "metadata": {},
   "outputs": [
    {
     "data": {
      "text/plain": [
       "count    39717.000000\n",
       "mean     11219.443815\n",
       "std       7456.670694\n",
       "min        500.000000\n",
       "25%       5500.000000\n",
       "50%      10000.000000\n",
       "75%      15000.000000\n",
       "max      35000.000000\n",
       "Name: loan_amnt, dtype: float64"
      ]
     },
     "execution_count": 48,
     "metadata": {},
     "output_type": "execute_result"
    }
   ],
   "source": [
    "df['loan_amnt'].describe()"
   ]
  },
  {
   "cell_type": "code",
   "execution_count": 65,
   "id": "7e3b26fb",
   "metadata": {},
   "outputs": [
    {
     "name": "stderr",
     "output_type": "stream",
     "text": [
      "C:\\Users\\mathu\\anaconda3\\Lib\\site-packages\\seaborn\\_oldcore.py:1119: FutureWarning: use_inf_as_na option is deprecated and will be removed in a future version. Convert inf values to NaN before operating instead.\n",
      "  with pd.option_context('mode.use_inf_as_na', True):\n"
     ]
    },
    {
     "data": {
      "image/png": "[encoded data removed]",
      "text/plain": [
       "<Figure size 640x480 with 1 Axes>"
      ]
     },
     "metadata": {},
     "output_type": "display_data"
    }
   ],
   "source": [
    "sns.histplot(df['loan_amnt'],bins=10,color='green')\n",
    "plt.title(\"Trend of Loans Amount Committed\")\n",
    "plt.show()"
   ]
  },
  {
   "cell_type": "markdown",
   "id": "a6a6c6ea",
   "metadata": {},
   "source": [
    "* Most of the Loan Amount is given in the rage $5000- $10000"
   ]
  },
  {
   "cell_type": "code",
   "execution_count": 77,
   "id": "969a9ebb",
   "metadata": {},
   "outputs": [
    {
     "data": {
      "image/png": "[encoded data removed]",
      "text/plain": [
       "<Figure size 640x480 with 1 Axes>"
      ]
     },
     "metadata": {},
     "output_type": "display_data"
    }
   ],
   "source": [
    "df['term'].value_counts().plot.bar(color='green')\n",
    "plt.title(\"Count of Loans Issued by term\")\n",
    "plt.show()"
   ]
  },
  {
   "cell_type": "markdown",
   "id": "5b388a20",
   "metadata": {},
   "source": [
    "* Most of the Loans were given on a duration of 36 Months"
   ]
  },
  {
   "cell_type": "code",
   "execution_count": 79,
   "id": "86356178",
   "metadata": {},
   "outputs": [
    {
     "name": "stderr",
     "output_type": "stream",
     "text": [
      "C:\\Users\\mathu\\anaconda3\\Lib\\site-packages\\seaborn\\_oldcore.py:1119: FutureWarning: use_inf_as_na option is deprecated and will be removed in a future version. Convert inf values to NaN before operating instead.\n",
      "  with pd.option_context('mode.use_inf_as_na', True):\n"
     ]
    },
    {
     "data": {
      "image/png": "[encoded data removed]",
      "text/plain": [
       "<Figure size 640x480 with 1 Axes>"
      ]
     },
     "metadata": {},
     "output_type": "display_data"
    }
   ],
   "source": [
    "sns.histplot(df['int_rate'],bins=10,color='green')\n",
    "plt.title(\"Intrest Rate Trend\")\n",
    "plt.show()"
   ]
  },
  {
   "cell_type": "markdown",
   "id": "f5bc8b80",
   "metadata": {},
   "source": [
    "^ Most of the loans were issued in the intrest range of 10 to 15%"
   ]
  },
  {
   "cell_type": "code",
   "execution_count": 103,
   "id": "8e9d200e",
   "metadata": {},
   "outputs": [
    {
     "name": "stderr",
     "output_type": "stream",
     "text": [
      "C:\\Users\\mathu\\anaconda3\\Lib\\site-packages\\seaborn\\_oldcore.py:1119: FutureWarning: use_inf_as_na option is deprecated and will be removed in a future version. Convert inf values to NaN before operating instead.\n",
      "  with pd.option_context('mode.use_inf_as_na', True):\n"
     ]
    },
    {
     "data": {
      "image/png": "[encoded data removed]",
      "text/plain": [
       "<Figure size 640x480 with 1 Axes>"
      ]
     },
     "metadata": {},
     "output_type": "display_data"
    }
   ],
   "source": [
    "sns.histplot(df['installment'],bins=10,color='green',kde=True)\n",
    "plt.title(\"Intallment Amount Trend\")\n",
    "plt.show()"
   ]
  },
  {
   "cell_type": "markdown",
   "id": "afee8b05",
   "metadata": {},
   "source": [
    "The above finding is inline with the loan_amnt trend. Most of the installments are in the range 200-$400"
   ]
  },
  {
   "cell_type": "code",
   "execution_count": 100,
   "id": "25126bc6",
   "metadata": {},
   "outputs": [
    {
     "data": {
      "image/png": "[encoded data removed]",
      "text/plain": [
       "<Figure size 640x480 with 1 Axes>"
      ]
     },
     "metadata": {},
     "output_type": "display_data"
    }
   ],
   "source": [
    "df['purpose'].value_counts().plot.bar(color='green')\n",
    "plt.title(\"Graph showing the Purpose of Loans that were given\")\n",
    "plt.show()"
   ]
  },
  {
   "cell_type": "markdown",
   "id": "63a156a5",
   "metadata": {},
   "source": [
    "* Most of the Loans were given against debt_consolidation"
   ]
  },
  {
   "cell_type": "code",
   "execution_count": 101,
   "id": "cd9bdddf",
   "metadata": {},
   "outputs": [
    {
     "data": {
      "image/png": "[encoded data removed]",
      "text/plain": [
       "<Figure size 640x480 with 1 Axes>"
      ]
     },
     "metadata": {},
     "output_type": "display_data"
    }
   ],
   "source": [
    "df['issue_year'].value_counts().plot.bar(color='green')\n",
    "plt.title(\"Graph showing count of loans against issued year\")\n",
    "plt.show()"
   ]
  },
  {
   "cell_type": "markdown",
   "id": "dd21b2d0",
   "metadata": {},
   "source": [
    "Most of the Loans were given in 2011. Also we see the business started in 2007 (based on data) and every year the count of loans given is increasing"
   ]
  },
  {
   "cell_type": "code",
   "execution_count": 105,
   "id": "8289422f",
   "metadata": {},
   "outputs": [
    {
     "data": {
      "image/png": "[encoded data removed]",
      "text/plain": [
       "<Figure size 640x480 with 1 Axes>"
      ]
     },
     "metadata": {},
     "output_type": "display_data"
    }
   ],
   "source": [
    "df['grade'].value_counts().plot.bar(color='green')\n",
    "plt.title(\"Graph showing count of loans against Grade\")\n",
    "plt.show()"
   ]
  },
  {
   "cell_type": "markdown",
   "id": "6000b288",
   "metadata": {},
   "source": [
    "Most of the Loans were given to B, A, C group customers"
   ]
  },
  {
   "cell_type": "code",
   "execution_count": null,
   "id": "0cb150c9",
   "metadata": {},
   "outputs": [],
   "source": []
  },
  {
   "cell_type": "code",
   "execution_count": 117,
   "id": "e8c1865a",
   "metadata": {},
   "outputs": [
    {
     "data": {
      "image/png": "[encoded data removed]",
      "text/plain": [
       "<Figure size 640x480 with 1 Axes>"
      ]
     },
     "metadata": {},
     "output_type": "display_data"
    }
   ],
   "source": [
    "sns.boxplot(data=df,y='loan_amnt',x='loan_status')\n",
    "plt.ylabel('Loan Amount')\n",
    "plt.xlabel('Loan Status')\n",
    "plt.show()"
   ]
  },
  {
   "cell_type": "markdown",
   "id": "9a7b2138",
   "metadata": {},
   "source": [
    "Loans"
   ]
  },
  {
   "cell_type": "code",
   "execution_count": null,
   "id": "df4fac4e",
   "metadata": {},
   "outputs": [],
   "source": []
  },
  {
   "cell_type": "code",
   "execution_count": null,
   "id": "88d7131c",
   "metadata": {},
   "outputs": [],
   "source": []
  },
  {
   "cell_type": "code",
   "execution_count": null,
   "id": "49422e0a",
   "metadata": {},
   "outputs": [],
   "source": []
  },
  {
   "cell_type": "code",
   "execution_count": null,
   "id": "b595282a",
   "metadata": {},
   "outputs": [],
   "source": []
  },
  {
   "cell_type": "code",
   "execution_count": 36,
   "id": "6f40ac4f",
   "metadata": {},
   "outputs": [
    {
     "data": {
      "image/png": "[encoded data removed]",
      "text/plain": [
       "<Figure size 640x480 with 1 Axes>"
      ]
     },
     "metadata": {},
     "output_type": "display_data"
    }
   ],
   "source": [
    "gradedetail = pd.pivot_table(data=df,index='loan_status',columns='grade',aggfunc='count',values='loan_amnt',fill_value=0)\n",
    "    \n",
    "for column in gradedetail:\n",
    "    gradedetail[column] = gradedetail[column].astype(float)\n",
    " \n",
    "gradedetail.loc['Charged Off'] = gradedetail.loc['Charged Off'] / (gradedetail.loc['Charged Off'] + gradedetail.loc['Current'] + gradedetail.loc['Fully Paid'])\n",
    "\n",
    "gradedetail.loc['Charged Off'].plot.bar(color='red')\n",
    "plt.title(\"Charged off % by Grade\")\n",
    "plt.xlabel(\"Grade Level\")\n",
    "plt.ylabel(\"Charge Back %\")\n",
    "plt.show()"
   ]
  },
  {
   "cell_type": "code",
   "execution_count": 37,
   "id": "7638d41d",
   "metadata": {},
   "outputs": [
    {
     "data": {
      "image/png": "[encoded data removed]",
      "text/plain": [
       "<Figure size 640x480 with 1 Axes>"
      ]
     },
     "metadata": {},
     "output_type": "display_data"
    }
   ],
   "source": [
    "pubrecbankruptcies = pd.pivot_table(data=df,index='loan_status',columns='pub_rec_bankruptcies',aggfunc='count',values='loan_amnt',fill_value=0)\n",
    "    \n",
    "for column in pubrecbankruptcies:\n",
    "    pubrecbankruptcies[column] = pubrecbankruptcies[column].astype(float)\n",
    " \n",
    "pubrecbankruptcies.loc['Charged Off'] = pubrecbankruptcies.loc['Charged Off'] / (pubrecbankruptcies.loc['Charged Off'] + pubrecbankruptcies.loc['Current'] + pubrecbankruptcies.loc['Fully Paid'])\n",
    "\n",
    "pubrecbankruptcies.loc['Charged Off'].plot.bar(color='red')\n",
    "plt.title(\"Charged off % by Grade\")\n",
    "plt.xlabel(\"Grade Level\")\n",
    "plt.ylabel(\"Charge Back %\")\n",
    "plt.show()"
   ]
  },
  {
   "cell_type": "code",
   "execution_count": 38,
   "id": "d36f11f0",
   "metadata": {},
   "outputs": [
    {
     "data": {
      "text/html": [
       "<div>\n",
       "<style scoped>\n",
       "    .dataframe tbody tr th:only-of-type {\n",
       "        vertical-align: middle;\n",
       "    }\n",
       "\n",
       "    .dataframe tbody tr th {\n",
       "        vertical-align: top;\n",
       "    }\n",
       "\n",
       "    .dataframe thead th {\n",
       "        text-align: right;\n",
       "    }\n",
       "</style>\n",
       "<table border=\"1\" class=\"dataframe\">\n",
       "  <thead>\n",
       "    <tr style=\"text-align: right;\">\n",
       "      <th>pub_rec_bankruptcies</th>\n",
       "      <th>0.0</th>\n",
       "      <th>1.0</th>\n",
       "      <th>2.0</th>\n",
       "    </tr>\n",
       "    <tr>\n",
       "      <th>loan_status</th>\n",
       "      <th></th>\n",
       "      <th></th>\n",
       "      <th></th>\n",
       "    </tr>\n",
       "  </thead>\n",
       "  <tbody>\n",
       "    <tr>\n",
       "      <th>Charged Off</th>\n",
       "      <td>5259</td>\n",
       "      <td>366</td>\n",
       "      <td>2</td>\n",
       "    </tr>\n",
       "    <tr>\n",
       "      <th>Current</th>\n",
       "      <td>1101</td>\n",
       "      <td>37</td>\n",
       "      <td>2</td>\n",
       "    </tr>\n",
       "    <tr>\n",
       "      <th>Fully Paid</th>\n",
       "      <td>31676</td>\n",
       "      <td>1271</td>\n",
       "      <td>3</td>\n",
       "    </tr>\n",
       "  </tbody>\n",
       "</table>\n",
       "</div>"
      ],
      "text/plain": [
       "pub_rec_bankruptcies    0.0   1.0  2.0\n",
       "loan_status                           \n",
       "Charged Off            5259   366    2\n",
       "Current                1101    37    2\n",
       "Fully Paid            31676  1271    3"
      ]
     },
     "execution_count": 38,
     "metadata": {},
     "output_type": "execute_result"
    }
   ],
   "source": [
    "pubrecbankruptcies = pd.pivot_table(data=df,index='loan_status',columns='pub_rec_bankruptcies',aggfunc='count',values='loan_amnt',fill_value=0)\n",
    "\n",
    "pubrecbankruptcies"
   ]
  },
  {
   "cell_type": "code",
   "execution_count": null,
   "id": "4513b5a2",
   "metadata": {},
   "outputs": [],
   "source": []
  },
  {
   "cell_type": "code",
   "execution_count": null,
   "id": "e56974ec",
   "metadata": {},
   "outputs": [],
   "source": []
  },
  {
   "cell_type": "code",
   "execution_count": null,
   "id": "7a254c8d",
   "metadata": {},
   "outputs": [],
   "source": []
  },
  {
   "cell_type": "code",
   "execution_count": null,
   "id": "b64ff6f5",
   "metadata": {},
   "outputs": [],
   "source": [
    "\n"
   ]
  },
  {
   "cell_type": "code",
   "execution_count": null,
   "id": "4ee8774a",
   "metadata": {},
   "outputs": [],
   "source": []
  },
  {
   "cell_type": "code",
   "execution_count": null,
   "id": "81283d3d",
   "metadata": {},
   "outputs": [],
   "source": [
    "df[\"title\"].value_counts().count()\n",
    "#title can be removed"
   ]
  },
  {
   "cell_type": "code",
   "execution_count": null,
   "id": "ddcd8677",
   "metadata": {},
   "outputs": [],
   "source": [
    "df[\"url\"].value_counts().count()\n",
    "#url can be removed"
   ]
  },
  {
   "cell_type": "code",
   "execution_count": null,
   "id": "9b41d42d",
   "metadata": {},
   "outputs": [],
   "source": [
    "df[\"application_type\"].value_counts()\n",
    "#Only Indidival Applications are there. Even this can be removed\n"
   ]
  },
  {
   "cell_type": "code",
   "execution_count": null,
   "id": "5d3f9795",
   "metadata": {},
   "outputs": [],
   "source": [
    "df[\"policy_code\"].value_counts()\n",
    "#AllColumns have same value. even this can be removed"
   ]
  },
  {
   "cell_type": "code",
   "execution_count": null,
   "id": "eeba4d9a",
   "metadata": {},
   "outputs": [],
   "source": [
    "df[\"tax_liens\"].value_counts()\n",
    "#AllColumns have same value. even this can be removed"
   ]
  },
  {
   "cell_type": "code",
   "execution_count": null,
   "id": "47550a21",
   "metadata": {},
   "outputs": [],
   "source": [
    "df[\"delinq_amnt\"].value_counts()\n",
    "#AllColumns have same value. even this can be removed"
   ]
  },
  {
   "cell_type": "code",
   "execution_count": null,
   "id": "633ebff7",
   "metadata": {},
   "outputs": [],
   "source": [
    "df[\"chargeoff_within_12_mths\"].value_counts()\n",
    "#AllColumns have same value. even this can be removed"
   ]
  },
  {
   "cell_type": "code",
   "execution_count": null,
   "id": "ade3329d",
   "metadata": {},
   "outputs": [],
   "source": [
    "df[\"acc_now_delinq\"].value_counts()\n",
    "#AllColumns have same value. even this can be removed"
   ]
  },
  {
   "cell_type": "code",
   "execution_count": null,
   "id": "24b8a525",
   "metadata": {},
   "outputs": [],
   "source": [
    "\n",
    "df[\"collections_12_mths_ex_med\"].value_counts()\n",
    "#AllColumns have same value. even this can be removed"
   ]
  },
  {
   "cell_type": "code",
   "execution_count": null,
   "id": "badd5971",
   "metadata": {},
   "outputs": [],
   "source": [
    "\n",
    "df[\"initial_list_status\"].value_counts()\n",
    "#AllColumns have same value. even this can be removed"
   ]
  },
  {
   "cell_type": "code",
   "execution_count": null,
   "id": "45248ee1",
   "metadata": {},
   "outputs": [],
   "source": []
  },
  {
   "cell_type": "code",
   "execution_count": null,
   "id": "4bbdb787",
   "metadata": {},
   "outputs": [],
   "source": [
    "df.head()"
   ]
  },
  {
   "cell_type": "code",
   "execution_count": null,
   "id": "8fad8767",
   "metadata": {},
   "outputs": [],
   "source": [
    "df[\"revol_util\"].value_counts()\n"
   ]
  },
  {
   "cell_type": "code",
   "execution_count": null,
   "id": "47cb86ae",
   "metadata": {},
   "outputs": [],
   "source": [
    "df.info()"
   ]
  },
  {
   "cell_type": "code",
   "execution_count": null,
   "id": "e5ec76ac",
   "metadata": {},
   "outputs": [],
   "source": [
    "df.shape"
   ]
  },
  {
   "cell_type": "code",
   "execution_count": null,
   "id": "59fba8b6",
   "metadata": {},
   "outputs": [],
   "source": [
    "df['loan_status'].value_counts()"
   ]
  },
  {
   "cell_type": "code",
   "execution_count": null,
   "id": "3696fdeb",
   "metadata": {},
   "outputs": [],
   "source": [
    "df['term'].value_counts()"
   ]
  },
  {
   "cell_type": "code",
   "execution_count": null,
   "id": "d85c2714",
   "metadata": {},
   "outputs": [],
   "source": [
    "#pd.pivot_table(data=df,index='loan_status',columns='term',aggfunc='count',values='term')\n",
    "df[\"emp_length\"].value_counts()"
   ]
  },
  {
   "cell_type": "code",
   "execution_count": null,
   "id": "2f46de02",
   "metadata": {},
   "outputs": [],
   "source": []
  },
  {
   "cell_type": "markdown",
   "id": "6d653300",
   "metadata": {},
   "source": [
    "**Clearly Shows Customers in Grade G have the highest tendency to default on the loan\n",
    "\n"
   ]
  },
  {
   "cell_type": "code",
   "execution_count": null,
   "id": "9c947380",
   "metadata": {},
   "outputs": [],
   "source": [
    "\n",
    "#pd.pivot_table(data=df,index='loan_status',columns='pub_rec_bankruptcies',aggfunc='count',values='loan_amnt')\n",
    "#pd.pivot_table(data=df,index='loan_status',columns='emp_length',aggfunc='count',values='loan_amnt')"
   ]
  },
  {
   "cell_type": "code",
   "execution_count": null,
   "id": "87cb9813",
   "metadata": {},
   "outputs": [],
   "source": []
  },
  {
   "cell_type": "code",
   "execution_count": null,
   "id": "f06b0909",
   "metadata": {},
   "outputs": [],
   "source": []
  },
  {
   "cell_type": "code",
   "execution_count": null,
   "id": "2247bbe8",
   "metadata": {},
   "outputs": [],
   "source": []
  },
  {
   "cell_type": "code",
   "execution_count": null,
   "id": "32401abb",
   "metadata": {},
   "outputs": [],
   "source": []
  },
  {
   "cell_type": "code",
   "execution_count": null,
   "id": "82fcd5ac",
   "metadata": {},
   "outputs": [],
   "source": []
  },
  {
   "cell_type": "code",
   "execution_count": null,
   "id": "10bbe01d",
   "metadata": {},
   "outputs": [],
   "source": []
  }
 ],
 "metadata": {
  "kernelspec": {
   "display_name": "Python 3 (ipykernel)",
   "language": "python",
   "name": "python3"
  },
  "language_info": {
   "codemirror_mode": {
    "name": "ipython",
    "version": 3
   },
   "file_extension": ".py",
   "mimetype": "text/x-python",
   "name": "python",
   "nbconvert_exporter": "python",
   "pygments_lexer": "ipython3",
   "version": "3.11.7"
  }
 },
 "nbformat": 4,
 "nbformat_minor": 5
}
